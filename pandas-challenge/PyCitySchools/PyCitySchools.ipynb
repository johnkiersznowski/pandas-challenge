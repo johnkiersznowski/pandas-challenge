{
 "cells": [
  {
   "cell_type": "markdown",
   "id": "0631e29b",
   "metadata": {},
   "source": [
    "PyCity Schools Analysis\n",
    "\n",
    "This analysis observes data related to a school district's schools, budgets, student demographics, and student's scores. The data included 15 different high-schools containing just under 40,000 students. Of the most substance was comparing the math and reading scores of students based on relevant variables such as school spending, school size, as well as school type. Two interesting observable trends based on the data are explored below.\n",
    "\n",
    "1. The most noticeable observation for me is the correlation between scores by school size. The overall passing percentage was measured for students who score at least 70% on both reading and math scores and this was compared to a number of variables. Intuitively, schools with a large budget would be capable for more opportunities and teaching applications. Surprisingly there was a distinct inverse relationship found between the percentage of overall passing and school spending (per student) as it were categorized by ranges. \n",
    "\n",
    "2. Another significant observation is correlation between percentage students passed overall with the type of school students attended. There existed an almost even eight schools of the 15 that were charter, while the remaining seven were district type. Charter schools reported 90.4% overall passing while district only had 53.7%. This observation is interesting and calls for further investigation into more detailed variables surrounding the type of school and how they might lead to such a drastic gap between student scores."
   ]
  },
  {
   "cell_type": "code",
   "execution_count": null,
   "id": "c4931375",
   "metadata": {
    "scrolled": false
   },
   "outputs": [],
   "source": [
    "# Dependencies \n",
    "import pandas as pd\n",
    "import numpy as np\n",
    "\n",
    "# Name files \n",
    "school_data = \"Resources/schools_complete.csv\"\n",
    "student_data = \"Resources/students_complete.csv\"\n",
    "\n",
    "school_data_df = pd.read_csv(school_data)\n",
    "student_data_df = pd.read_csv(student_data)\n",
    "\n",
    "complete_data_df = pd.merge(school_data_df, student_data_df, how=\"left\", on=[\"school_name\", \"school_name\"])\n",
    "complete_data_df.head()"
   ]
  },
  {
   "cell_type": "markdown",
   "id": "b1713b4f",
   "metadata": {},
   "source": [
    "District Summary"
   ]
  },
  {
   "cell_type": "code",
   "execution_count": null,
   "id": "00c7998c",
   "metadata": {},
   "outputs": [],
   "source": [
    "num_schools = school_data_df[\"school_name\"]\n",
    "total_number_of_unique_schools_dis = num_schools.size\n",
    "total_number_of_unique_schools_dis"
   ]
  },
  {
   "cell_type": "code",
   "execution_count": null,
   "id": "dd63bace",
   "metadata": {},
   "outputs": [],
   "source": [
    "num_students = complete_data_df[\"student_name\"]\n",
    "total_students_dis = num_students.size\n",
    "total_students_dis"
   ]
  },
  {
   "cell_type": "code",
   "execution_count": null,
   "id": "76dd0fb0",
   "metadata": {},
   "outputs": [],
   "source": [
    "unique_budgets = complete_data_df[\"budget\"].unique()\n",
    "total_budget_dis = unique_budgets.sum()\n",
    "total_budget_dis"
   ]
  },
  {
   "cell_type": "code",
   "execution_count": null,
   "id": "28d1c2ca",
   "metadata": {},
   "outputs": [],
   "source": [
    "average_math_score_dis = complete_data_df[\"math_score\"].mean()\n",
    "average_math_score_dis"
   ]
  },
  {
   "cell_type": "code",
   "execution_count": null,
   "id": "eb5e1060",
   "metadata": {},
   "outputs": [],
   "source": [
    "average_reading_score_dis = complete_data_df[\"reading_score\"].mean()\n",
    "average_reading_score_dis"
   ]
  },
  {
   "cell_type": "code",
   "execution_count": null,
   "id": "03f13209",
   "metadata": {},
   "outputs": [],
   "source": [
    "passing_math_count = complete_data_df[(complete_data_df[\"math_score\"] >= 70)].count()[\"student_name\"]\n",
    "passing_math_percent_dis = (passing_math_count) / (num_students.size) * 100\n",
    "passing_math_percent_dis"
   ]
  },
  {
   "cell_type": "code",
   "execution_count": null,
   "id": "5ca71f84",
   "metadata": {},
   "outputs": [],
   "source": [
    "passing_reading_count = complete_data_df[(complete_data_df[\"reading_score\"] >= 70)].count()[\"student_name\"]\n",
    "passing_reading_percent_dis = (passing_reading_count / num_students.size) * 100\n",
    "passing_reading_percent_dis"
   ]
  },
  {
   "cell_type": "code",
   "execution_count": null,
   "id": "aa7f9640",
   "metadata": {},
   "outputs": [],
   "source": [
    "overall_passing_count = complete_data_df[(complete_data_df[\"math_score\"] >= 70) & (complete_data_df[\"reading_score\"] >= 70)].count()[\"student_name\"]\n",
    "overall_passing_percent_dis = (overall_passing_count / num_students.size) * 100\n",
    "overall_passing_percent_dis"
   ]
  },
  {
   "cell_type": "markdown",
   "id": "53cddcfd",
   "metadata": {},
   "source": [
    "School Summary"
   ]
  },
  {
   "cell_type": "code",
   "execution_count": null,
   "id": "91dff959",
   "metadata": {},
   "outputs": [],
   "source": [
    "# school name\n",
    "school_name_sch = complete_data_df[\"school_name\"].unique()\n",
    "school_name_sch"
   ]
  },
  {
   "cell_type": "code",
   "execution_count": null,
   "id": "b96aae95",
   "metadata": {},
   "outputs": [],
   "source": [
    "# school type\n",
    "\n",
    "school_types_sch = school_data_df.set_index([\"school_name\"])[\"type\"]\n",
    "school_types_sch"
   ]
  },
  {
   "cell_type": "code",
   "execution_count": null,
   "id": "37358aa6",
   "metadata": {},
   "outputs": [],
   "source": [
    "# total students\n",
    "\n",
    "total_students = complete_data_df.groupby(\"school_name\")\n",
    "total_students_count_sch = total_students[\"student_name\"].count()\n",
    "total_students_count_sch"
   ]
  },
  {
   "cell_type": "code",
   "execution_count": null,
   "id": "8254b812",
   "metadata": {},
   "outputs": [],
   "source": [
    "# total school budget\n",
    "\n",
    "school_budgets_sch = school_data_df.set_index([\"school_name\"])[\"budget\"]\n",
    "school_budgets_sch"
   ]
  },
  {
   "cell_type": "code",
   "execution_count": null,
   "id": "68b569b4",
   "metadata": {},
   "outputs": [],
   "source": [
    "# per student budget\n",
    "\n",
    "total_students = complete_data_df.groupby(\"school_name\")\n",
    "total_students_count = total_students[\"student_name\"].count()\n",
    "\n",
    "school_budgets = school_data_df.set_index([\"school_name\"])[\"budget\"]\n",
    "\n",
    "per_student_budget_sch = school_budgets / total_students_count\n",
    "per_student_budget_sch"
   ]
  },
  {
   "cell_type": "code",
   "execution_count": null,
   "id": "06b384c4",
   "metadata": {},
   "outputs": [],
   "source": [
    "# Average Math score\n",
    "\n",
    "school_groups = complete_data_df.groupby(\"school_name\")\n",
    "total_math_score = school_groups[\"math_score\"].sum()\n",
    "\n",
    "school_groups = complete_data_df.groupby(\"school_name\")\n",
    "total_students = school_groups[\"student_name\"].count()\n",
    "\n",
    "average_math_score_sch = total_math_score / total_students\n",
    "average_math_score_sch"
   ]
  },
  {
   "cell_type": "code",
   "execution_count": null,
   "id": "553b4b64",
   "metadata": {},
   "outputs": [],
   "source": [
    "# Average Reading Score\n",
    "\n",
    "school_groups = complete_data_df.groupby(\"school_name\")\n",
    "total_reading_score = school_groups[\"reading_score\"].sum()\n",
    "\n",
    "school_groups = complete_data_df.groupby(\"school_name\")\n",
    "total_students = school_groups[\"student_name\"].count()\n",
    "\n",
    "average_reading_score_sch = total_reading_score / total_students\n",
    "average_reading_score_sch"
   ]
  },
  {
   "cell_type": "code",
   "execution_count": null,
   "id": "8d59c149",
   "metadata": {},
   "outputs": [],
   "source": [
    "school_pass_math_count = complete_data_df[complete_data_df[\"math_score\"] >= 70].groupby(\"school_name\")[\"student_name\"].count()\n",
    "school_pass_math_count"
   ]
  },
  {
   "cell_type": "code",
   "execution_count": null,
   "id": "3edef762",
   "metadata": {},
   "outputs": [],
   "source": [
    "school_pass_reading_count = complete_data_df[complete_data_df[\"reading_score\"] >= 70].groupby(\"school_name\")[\"student_name\"].count()\n",
    "school_pass_reading_count"
   ]
  },
  {
   "cell_type": "code",
   "execution_count": null,
   "id": "e0d3f26e",
   "metadata": {},
   "outputs": [],
   "source": [
    "school_math_pass_perc = school_pass_math_count / total_students_count * 100\n",
    "school_reading_pass_perc = school_pass_reading_count / total_students_count * 100\n",
    "\n",
    "passing_math_and_reading = complete_data_df[\n",
    "    (complete_data_df[\"reading_score\"] >= 70) & (complete_data_df[\"math_score\"] >= 70)]\n",
    "\n",
    "school_pass_math_and_reading = passing_math_and_reading.groupby(\"school_name\")\n",
    "school_pass_math_and_reading_count = school_pass_math_and_reading[\"student_name\"].count()\n",
    "school_pass_math_and_reading_perc = school_pass_math_and_reading_count / total_students_count * 100\n",
    "school_pass_math_and_reading_perc"
   ]
  },
  {
   "cell_type": "code",
   "execution_count": null,
   "id": "b0cbaa5b",
   "metadata": {},
   "outputs": [],
   "source": [
    "# District Summary DataFrame\n",
    "\n",
    "district_summary_dict = {\n",
    "    \"Total number of unique schools\": total_number_of_unique_schools_dis,\n",
    "    \"Total Students\": total_students_dis,\n",
    "    \"Total Budget\": total_budget_dis,\n",
    "    \"Average math score\": average_math_score_dis,\n",
    "    \"Average reading score\": average_reading_score_dis,\n",
    "    \"% passing math (percentage of students who passed math)\": passing_math_percent_dis,\n",
    "    \"% passing reading (the percentage of students who passed reading)\": passing_reading_percent_dis,\n",
    "    \"% overall passing (the percentage of students who passed math AND reading)\": overall_passing_percent_dis    \n",
    "}\n",
    "\n",
    "district_summary = pd.DataFrame(district_summary_dict, index=[0])\n",
    "\n",
    "district_summary[\"Total Students\"] = district_summary[\"Total Students\"].map(\"{:,}\".format)\n",
    "district_summary[\"Total Budget\"] = district_summary[\"Total Budget\"].map(\"${:,.2f}\".format)\n",
    "\n",
    "district_summary"
   ]
  },
  {
   "cell_type": "code",
   "execution_count": null,
   "id": "c3d8d6d3",
   "metadata": {},
   "outputs": [],
   "source": [
    "# School Summary\n",
    "\n",
    "school_summary_dict = {\n",
    "    \"School type\": school_types_sch,\n",
    "    \"Total students\": total_students_count_sch,\n",
    "    \"Total school budget\": school_budgets_sch,\n",
    "    \"Per student budget\": per_student_budget_sch,\n",
    "    \"Average math score\": average_math_score_sch,\n",
    "    \"Average reading score\": average_reading_score_sch,\n",
    "    \"% passing math (the percentage of students who passed math)\": school_math_pass_perc,\n",
    "    \"% passing reading (the percentage of students who passed reading)\": school_reading_pass_perc,\n",
    "    \"% overall passing (the percentage of students who passed math AND reading)\": school_pass_math_and_reading_perc \n",
    "}\n",
    "\n",
    "school_summary = pd.DataFrame(school_summary_dict)\n",
    "school_summary.set_index=\"school_name\"\n",
    "school_summary.index.name = None\n",
    "school_summary[\"Total school budget\"] = school_summary[\"Total school budget\"].map(\"${:,.2f}\".format)\n",
    "school_summary[\"Per student budget\"] = school_summary[\"Per student budget\"].map(\"${:,.2f}\".format)\n",
    "school_summary"
   ]
  },
  {
   "cell_type": "markdown",
   "id": "14c38114",
   "metadata": {},
   "source": [
    "Highest-Performing Schools (by % Overall Passing)"
   ]
  },
  {
   "cell_type": "code",
   "execution_count": null,
   "id": "092a3a81",
   "metadata": {},
   "outputs": [],
   "source": [
    "# Highest-Performing Schools (by % Overall Passing)\n",
    "highest_performing_schools = school_summary.sort_values(by=[\"% overall passing (the percentage of students who passed math AND reading)\"], ascending=False)\n",
    "top_schools = highest_performing_schools.head()\n",
    "top_schools.index.name = None\n",
    "top_schools"
   ]
  },
  {
   "cell_type": "markdown",
   "id": "4137c80b",
   "metadata": {},
   "source": [
    "Bottom-Performing Schools (by % Overall Passing)"
   ]
  },
  {
   "cell_type": "code",
   "execution_count": null,
   "id": "fc56297e",
   "metadata": {},
   "outputs": [],
   "source": [
    "# Lowest-Performing Schools (by % Overall Passing)\n",
    "lowest_performing_schools = school_summary.sort_values(by=[\"% overall passing (the percentage of students who passed math AND reading)\"], ascending=True)\n",
    "bottom_schools = lowest_performing_schools.head()\n",
    "bottom_schools.index.name = None\n",
    "bottom_schools"
   ]
  },
  {
   "cell_type": "markdown",
   "id": "b58da805",
   "metadata": {},
   "source": [
    "Math Scores by Grade"
   ]
  },
  {
   "cell_type": "code",
   "execution_count": null,
   "id": "58d48175",
   "metadata": {},
   "outputs": [],
   "source": [
    "# Seperate data by grade\n",
    "ninth_graders = complete_data_df[(complete_data_df[\"grade\"] == \"9th\")]\n",
    "tenth_graders = complete_data_df[(complete_data_df[\"grade\"] == \"10th\")]\n",
    "eleventh_graders = complete_data_df[(complete_data_df[\"grade\"] == \"11th\")]\n",
    "twelfth_graders = complete_data_df[(complete_data_df[\"grade\"] == \"12th\")]\n",
    "\n",
    "# Group by \"school_name\" and take the mean of each\n",
    "ninth_graders_scores = complete_data_df.groupby([\"school_name\"])[\"math_score\"].mean()\n",
    "tenth_graders_scores = complete_data_df.groupby([\"school_name\"])[\"math_score\"].mean()\n",
    "eleventh_graders_scores = complete_data_df.groupby([\"school_name\"])[\"math_score\"].mean()\n",
    "twelfth_graders_scores = complete_data_df.groupby([\"school_name\"])[\"math_score\"].mean()\n",
    "\n",
    "# Create dict\n",
    "math_by_grade_dict = {\n",
    "    \"9th\": ninth_graders_scores,\n",
    "    \"10th\": tenth_graders_scores,\n",
    "    \"11th\": eleventh_graders_scores,\n",
    "    \"12th\": twelfth_graders_scores\n",
    "}\n",
    "\n",
    "math_by_grade_df = pd.DataFrame(math_by_grade_dict)\n",
    "math_by_grade_df.index.name = None\n",
    "math_by_grade_df"
   ]
  },
  {
   "cell_type": "markdown",
   "id": "3e084338",
   "metadata": {},
   "source": [
    "Reading Scores by Grade"
   ]
  },
  {
   "cell_type": "code",
   "execution_count": null,
   "id": "bf918300",
   "metadata": {},
   "outputs": [],
   "source": [
    "# Seperate data by grade\n",
    "ninth_graders = complete_data_df[(complete_data_df[\"grade\"] == \"9th\")]\n",
    "tenth_graders = complete_data_df[(complete_data_df[\"grade\"] == \"10th\")]\n",
    "eleventh_graders = complete_data_df[(complete_data_df[\"grade\"] == \"11th\")]\n",
    "twelfth_graders = complete_data_df[(complete_data_df[\"grade\"] == \"12th\")]\n",
    "\n",
    "# Group by \"school_name\" and take the mean of each\n",
    "ninth_graders_scores = complete_data_df.groupby([\"school_name\"])[\"reading_score\"].mean()\n",
    "tenth_graders_scores = complete_data_df.groupby([\"school_name\"])[\"reading_score\"].mean()\n",
    "eleventh_graders_scores = complete_data_df.groupby([\"school_name\"])[\"reading_score\"].mean()\n",
    "twelfth_graders_scores = complete_data_df.groupby([\"school_name\"])[\"reading_score\"].mean()\n",
    "\n",
    "# Create dict\n",
    "reading_by_grade_dict = {\n",
    "    \"9th\": ninth_graders_scores,\n",
    "    \"10th\": tenth_graders_scores,\n",
    "    \"11th\": eleventh_graders_scores,\n",
    "    \"12th\": twelfth_graders_scores\n",
    "}\n",
    "\n",
    "reading_by_grade_df = pd.DataFrame(reading_by_grade_dict)\n",
    "reading_by_grade_df.index.name = None\n",
    "reading_by_grade_df"
   ]
  },
  {
   "cell_type": "markdown",
   "id": "f4defe68",
   "metadata": {},
   "source": [
    "Scores by School Spending"
   ]
  },
  {
   "cell_type": "code",
   "execution_count": null,
   "id": "397d7409",
   "metadata": {},
   "outputs": [],
   "source": [
    "# Scores by School Spending\n",
    "spending_bins = [0, 585, 630, 645, 680]\n",
    "labels = [\"<$585\", \"$585-630\", \"$630-645\", \"$645-680\"]\n",
    "\n",
    "school_summary[\"Spending Ranges (Per Student)\"] = pd.cut(school_summary[\"Per student budget\"], bins=spending_bins, labels=labels)\n",
    "\n",
    "spending_math_scores = school_summary.groupby([\"Spending Ranges (Per Student)\"]).mean()[\"Average math score\"]\n",
    "spending_reading_scores = school_summary.groupby([\"Spending Ranges (Per Student)\"]).mean()[\"Average reading score\"]\n",
    "spending_passing_math = school_summary.groupby([\"Spending Ranges (Per Student)\"]).mean()[\"% passing math (the percentage of students who passed math)\"]\n",
    "spending_passing_reading = school_summary.groupby([\"Spending Ranges (Per Student)\"]).mean()[\"% passing reading (the percentage of students who passed reading)\"]\n",
    "overall_passing_spending = school_summary.groupby([\"Spending Ranges (Per Student)\"]).mean()[\"% overall passing (the percentage of students who passed math AND reading)\"]\n",
    "\n",
    "spend_dict = {\n",
    "    \"Average math score\": spending_math_scores,\n",
    "    \"Avergage reading score\": spending_reading_scores,\n",
    "    \"% passing math\": spending_passing_math,\n",
    "    \"% passing reading\": spending_passing_reading,\n",
    "    \"% overall passing\": overall_passing_spending\n",
    "}\n",
    "\n",
    "spending_summary = pd.DataFrame(spend_dict)\n",
    "spending_summary"
   ]
  },
  {
   "cell_type": "markdown",
   "id": "8594db37",
   "metadata": {},
   "source": [
    "Scores by School Size"
   ]
  },
  {
   "cell_type": "code",
   "execution_count": null,
   "id": "08ac4fff",
   "metadata": {},
   "outputs": [],
   "source": [
    "# Scores by School Size\n",
    "size_bins = [0, 1000, 2000, 5000]\n",
    "labels = [\"Small (<1000)\", \"Medium (1000-2000)\", \"Large (2000-5000)\"]\n",
    "\n",
    "school_summary[\"School size\"] = pd.cut(school_summary[\"Total students\"], bins=size_bins, labels=labels)\n",
    "\n",
    "size_math_scores = school_summary.groupby([\"School size\"]).mean()[\"Average math score\"]\n",
    "size_reading_scores = school_summary.groupby([\"School size\"]).mean()[\"Average reading score\"]\n",
    "size_passing_math = school_summary.groupby([\"School size\"]).mean()[\"% passing math (the percentage of students who passed math)\"]\n",
    "size_passing_reading = school_summary.groupby([\"School size\"]).mean()[\"% passing reading (the percentage of students who passed reading)\"]\n",
    "size_overall_passing = school_summary.groupby([\"School size\"]).mean()[\"% overall passing (the percentage of students who passed math AND reading)\"]\n",
    "                                                \n",
    "size_dict = {\n",
    "    \"Average math score\": size_math_scores,\n",
    "    'Average reading score': size_reading_scores,\n",
    "    '% passing math': size_passing_math,\n",
    "    '% passing reading': size_passing_reading,\n",
    "    '% overall passing': size_overall_passing\n",
    "}\n",
    "\n",
    "size_summary = pd.DataFrame(size_dict)\n",
    "size_summary"
   ]
  },
  {
   "cell_type": "markdown",
   "id": "d4d91427",
   "metadata": {},
   "source": [
    "Scores by School Type"
   ]
  },
  {
   "cell_type": "code",
   "execution_count": null,
   "id": "adc0c32d",
   "metadata": {},
   "outputs": [],
   "source": [
    "# Scores by School Type\n",
    "\n",
    "school_summary.groupby([\"School type\"])\n",
    "\n",
    "type_math_scores = school_summary.groupby([\"School type\"]).mean()[\"Average math score\"]\n",
    "type_reading_scores = school_summary.groupby([\"School type\"]).mean()[\"Average reading score\"]\n",
    "type_passing_math = school_summary.groupby([\"School type\"]).mean()[\"% passing math (the percentage of students who passed math)\"]\n",
    "type_passing_reading = school_summary.groupby([\"School type\"]).mean()[\"% passing reading (the percentage of students who passed reading)\"]\n",
    "type_overall_passing = school_summary.groupby([\"School type\"]).mean()[\"% overall passing (the percentage of students who passed math AND reading)\"]\n",
    "\n",
    "type_dict= {\n",
    "    \"Average math score\": type_math_scores,\n",
    "    'Average reading score': type_reading_scores,\n",
    "    '% passing math': type_passing_math,\n",
    "    '% passing reading': type_passing_reading,\n",
    "    '% overall passing': type_overall_passing\n",
    "}\n",
    "\n",
    "type_summary = pd.DataFrame(type_dict)\n",
    "type_summary"
   ]
  }
 ],
 "metadata": {
  "celltoolbar": "Raw Cell Format",
  "kernelspec": {
   "display_name": "PythonData",
   "language": "python",
   "name": "pythondata"
  },
  "language_info": {
   "codemirror_mode": {
    "name": "ipython",
    "version": 3
   },
   "file_extension": ".py",
   "mimetype": "text/x-python",
   "name": "python",
   "nbconvert_exporter": "python",
   "pygments_lexer": "ipython3",
   "version": "3.7.13"
  }
 },
 "nbformat": 4,
 "nbformat_minor": 5
}
